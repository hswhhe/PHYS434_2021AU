{
 "cells": [
  {
   "cell_type": "code",
   "execution_count": 1,
   "id": "cbfcdf19-31d8-4fad-b152-4af74a7e6cfb",
   "metadata": {},
   "outputs": [],
   "source": [
    "import numpy as np\n",
    "import matplotlib\n",
    "import matplotlib.pyplot as plt\n",
    "import scipy\n",
    "from scipy import stats\n",
    "import math\n",
    "import statistics\n",
    "\n",
    "\n",
    "#this sets the size of the plot to something useful\n",
    "plt.rcParams[\"figure.figsize\"] = (15,10)"
   ]
  },
  {
   "cell_type": "markdown",
   "id": "6b693f57-1ae6-4f8d-b79b-9881b43b356d",
   "metadata": {},
   "source": [
    "# Homework 3"
   ]
  },
  {
   "cell_type": "markdown",
   "id": "c2eb4502-28c6-419e-8e87-4a911cc2c3e3",
   "metadata": {},
   "source": [
    "## Problem 1"
   ]
  },
  {
   "cell_type": "markdown",
   "id": "28abe6a5-352b-4743-b95e-30c3426f61c4",
   "metadata": {},
   "source": [
    "**1a)** The first algorithm made 3 + 5 = 8 mistakes in total, and the second algorithm made 1 + 11 = 12 mistakes in total. Therefore, the second algorithm made more mistakes."
   ]
  },
  {
   "cell_type": "markdown",
   "id": "520d6bd1-dfb5-42cb-8155-0e12ddde9e62",
   "metadata": {},
   "source": [
    "**1b)** The second algorithm is better for the zoo. As the question stated, it is really important to identify the birds correctly as we do not want them to escape. Although the second algorithm makes more mistakes, it has much higher accuracy in terms of identifying birds."
   ]
  },
  {
   "cell_type": "markdown",
   "id": "a105f610-e4cd-4ce1-b0f4-8ea5ae3a241a",
   "metadata": {},
   "source": [
    "**1c)** We can first calculate the success rate for identifying birds and persons of both algorithms, and then calculate the numbers of birds/persons they will successfully identify given only 1% person."
   ]
  },
  {
   "cell_type": "code",
   "execution_count": 2,
   "id": "ce3c5033-54b6-41c5-b604-aca509b16e38",
   "metadata": {},
   "outputs": [],
   "source": [
    "bird_successRate_NN = 45 / (45 + 3)\n",
    "person_successRate_NN = 47 / (47 + 5) #success Rate for NN"
   ]
  },
  {
   "cell_type": "code",
   "execution_count": 3,
   "id": "93807dd1-c0b6-4a1c-87fa-c51c2a750186",
   "metadata": {},
   "outputs": [],
   "source": [
    "bird_successRate_NA= 47 / (47 + 1)\n",
    "person_successRate_NA = 42 / (42 + 11) #success Rate for NA"
   ]
  },
  {
   "cell_type": "markdown",
   "id": "4510d781-d340-413a-b176-ad001b701cba",
   "metadata": {},
   "source": [
    "Now, if we have 100 photos(samples), there will be only one photo of person and 99 photos of birds. Multiplying the success rate and number of photos together, we can have the successful numbers of birds/ persons of each algorithm."
   ]
  },
  {
   "cell_type": "code",
   "execution_count": 4,
   "id": "16b7db8b-c2db-41ec-af7c-2b3a9701f6f8",
   "metadata": {},
   "outputs": [
    {
     "name": "stdout",
     "output_type": "stream",
     "text": [
      "NN bird, true bird:92.8125\n",
      "NN bird, true person:6.1875\n",
      "NN person, true person:0.9038461538461539\n",
      "NN person, true bird:0.09615384615384615\n"
     ]
    }
   ],
   "source": [
    "num_birds = 99\n",
    "num_person = 1\n",
    "true_bird_NN_bird = bird_successRate_NN * num_birds\n",
    "true_person_NN_bird = num_birds - true_bird_NN_bird\n",
    "true_person_NN_person = person_successRate_NN * num_person\n",
    "true_bird_NN_person = num_person - true_person_NN_person\n",
    "\n",
    "print(\"NN bird, true bird:\"  + str(true_bird_NN_bird))\n",
    "print(\"NN bird, true person:\"  + str(true_person_NN_bird))\n",
    "print(\"NN person, true person:\"  + str(true_person_NN_person))\n",
    "print(\"NN person, true bird:\"  + str(true_bird_NN_person))"
   ]
  },
  {
   "cell_type": "code",
   "execution_count": 5,
   "id": "eca0b6eb-51c8-4c78-98d7-d277ab045043",
   "metadata": {},
   "outputs": [
    {
     "name": "stdout",
     "output_type": "stream",
     "text": [
      "NA bird, true bird:96.9375\n",
      "NA bird, true person:2.0625\n",
      "NA person, true person:0.7924528301886793\n",
      "NA person, true bird:0.2075471698113207\n"
     ]
    }
   ],
   "source": [
    "true_bird_NA_bird = bird_successRate_NA * num_birds\n",
    "true_person_NA_bird = num_birds - true_bird_NA_bird\n",
    "true_person_NA_person = person_successRate_NA * num_person\n",
    "true_bird_NA_person = num_person - true_person_NA_person\n",
    "\n",
    "print(\"NA bird, true bird:\"  + str(true_bird_NA_bird))\n",
    "print(\"NA bird, true person:\"  + str(true_person_NA_bird))\n",
    "print(\"NA person, true person:\"  + str(true_person_NA_person))\n",
    "print(\"NA person, true bird:\"  + str(true_bird_NA_person))"
   ]
  },
  {
   "cell_type": "markdown",
   "id": "a67a4daf-5276-4101-b2ab-8111af004eaf",
   "metadata": {},
   "source": [
    "## Problem 2"
   ]
  },
  {
   "cell_type": "markdown",
   "id": "b20708e1-da8d-444b-aaa6-c84dcf182ab2",
   "metadata": {},
   "source": [
    "**2a) What is the pdf of the sum of two identical exponential distributions?**"
   ]
  },
  {
   "cell_type": "markdown",
   "id": "b73f20c0-7e67-4bd7-94de-8214d397e98f",
   "metadata": {},
   "source": [
    "An exponential distribution is given by $$f(x) = \\lambda e^{-\\lambda x}$$"
   ]
  },
  {
   "cell_type": "markdown",
   "id": "3e4df396-3256-4426-af4d-548e3f10f936",
   "metadata": {},
   "source": [
    "And the sum(convolution) of two identical distribution will be given by$s(t) = \\int_{0}^{t} f(x) * f(t-x)dx = \\int_{0}^{t}\\lambda e^{-\\lambda x}\\lambda e^{-\\lambda (t-x)}dx = \\lambda ^2\\int_{0}^{t} e^{-\\lambda t}dx$"
   ]
  },
  {
   "cell_type": "markdown",
   "id": "c5371813-660a-4481-a9b6-7c36e5a1fa43",
   "metadata": {},
   "source": [
    "Notice that we use t as our upper bound and 0 as the loewr bound instead of $\\infty$ in the definition of covolution, because t-x and x have to be positive in exponential distributions."
   ]
  },
  {
   "cell_type": "markdown",
   "id": "299ffc2a-39e4-4b3d-a703-11c22eadda71",
   "metadata": {},
   "source": [
    "Continue the math: $s(t) =\\lambda ^2\\int_{0}^{t} e^{-\\lambda t}dx = \\lambda ^2te^{-\\lambda t}$ "
   ]
  },
  {
   "cell_type": "markdown",
   "id": "54a96f2b-97e0-4602-9e9c-704356db0635",
   "metadata": {},
   "source": [
    "**2b) What is the pdf of the ratio of two zero-mean unity variance normal distributions  X1/X2 ?**"
   ]
  },
  {
   "cell_type": "markdown",
   "id": "f678647c-cb55-4fb7-b9bb-2e59a4084b3d",
   "metadata": {},
   "source": [
    "$$ X_{1} = X_{2} = f(x) = \\frac{1}{{\\sqrt {2\\pi }}}e^\\frac{-x^2}{2}  $$"
   ]
  },
  {
   "cell_type": "markdown",
   "id": "0f0ce7b9-3ccb-4bcf-8513-d2dfa1db2257",
   "metadata": {},
   "source": [
    "If $X = X_1 / X_2$, then $X(t)$ is given by $$X(t) = \\int_{-\\infty}^{\\infty}|x|X_{1}(x)X_{2}(xt)dx$$ (source: Wikipedia:Ratio distribution)"
   ]
  },
  {
   "cell_type": "markdown",
   "id": "ee00b354-0f71-4639-b509-63fb374176a4",
   "metadata": {},
   "source": [
    "$X(t) = \\int_{-\\infty}^{\\infty} |x|\\frac{1}{{\\sqrt {2\\pi }}}e^\\frac{-x^2}{2} \\frac{1}{{\\sqrt {2\\pi }}}e^\\frac{-(xt)^2}{2}dx = \\frac{1}{2\\pi}\\int_{-\\infty}^{\\infty}|x|e^{\\frac{-x^2(1+t^2)}{2}}dx$"
   ]
  },
  {
   "cell_type": "markdown",
   "id": "0b1740d8-9348-47e9-808b-297c6374b72e",
   "metadata": {},
   "source": [
    "After solving this integral, the distribution of $X(t)$ is given by $$X(t) = \\frac{1}{\\pi(t^2+1)}$$"
   ]
  },
  {
   "cell_type": "markdown",
   "id": "0a8bc3b5-5eb4-4af4-9a0b-65995846d54e",
   "metadata": {},
   "source": [
    "**2c) So far we have looked at 1D probability distributions, but it is possible to have a multi-dimensional vector distribution. A simple first introduction is the 2D Guassian; it looks like a smeared spot. Mathematically this is given by  Xi^+Yj^  where both  X  and  Y  are drawn from 1D Gaussian distributions. If I measure the amplitude of this vector, what is its pdf? (Hint, the amplitude is always positive.)**"
   ]
  },
  {
   "attachments": {
    "b0e42b32-f0a7-4013-a74c-ea40205d6269.png": {
     "image/png": "[encoded data removed]"
    }
   },
   "cell_type": "markdown",
   "id": "224dc2b2-02af-4dae-82d6-03b4e530c56e",
   "metadata": {},
   "source": [
    "The amplitude(length) of the vector Xi^+Yj^ will be $\\sqrt{X^2 + Y^2}$. In another way, we have the pdf of the amplitude of the 2D Gaussian $Z = \\sqrt{X^2 + Y^2}$. We can evaluate the cdf of Z by taking the double integrals.![image.png](attachment:b0e42b32-f0a7-4013-a74c-ea40205d6269.png)"
   ]
  },
  {
   "attachments": {
    "a03d8146-9353-4f72-b461-826ba790470d.png": {
     "image/png": "[encoded data removed]"
    }
   },
   "cell_type": "markdown",
   "id": "fdae2d06-df7f-442a-89b1-ac8414f1e0de",
   "metadata": {},
   "source": [
    "Then converting the integral into polar coordinates and make the integral solvable.![image.png](attachment:a03d8146-9353-4f72-b461-826ba790470d.png)"
   ]
  },
  {
   "cell_type": "markdown",
   "id": "369037c5-2841-4dc3-82f6-8d8a49ae2172",
   "metadata": {},
   "source": [
    "The final ansewr turns out to be a Rayleigh distribution. (Source:"
   ]
  }
 ],
 "metadata": {
  "kernelspec": {
   "display_name": "Python 3",
   "language": "python",
   "name": "python3"
  },
  "language_info": {
   "codemirror_mode": {
    "name": "ipython",
    "version": 3
   },
   "file_extension": ".py",
   "mimetype": "text/x-python",
   "name": "python",
   "nbconvert_exporter": "python",
   "pygments_lexer": "ipython3",
   "version": "3.8.8"
  }
 },
 "nbformat": 4,
 "nbformat_minor": 5
}
